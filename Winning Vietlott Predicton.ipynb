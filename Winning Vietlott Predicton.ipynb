{
 "cells": [
  {
   "cell_type": "markdown",
   "metadata": {},
   "source": [
    "# Predict your chance of life changing moment by buying Vietlott\n",
    "\n",
    "## Introduction\n",
    "In Vietnam, many people play lottery for fun, but for some this activity turns into a habit which eventually escalates into addiction. Like other compulsive gamblers, lottery addicts soon begin spending from their savings and loans, they start to accumulate debts, and eventually engage in desperate behaviors like theft.\n",
    "\n",
    "## Goal\n",
    "In this project, we will help develop a mobile app meant to help lottery addicts better estimate their chances of winning Vietlott.\n",
    "Our stakeholders want to focus on Vietlott's main products such as:\n",
    "- Power 6/55 lottery\n",
    "- Mega 6/45 lottery\n",
    "- Max 3D\n",
    "- Max 3D X\n",
    "- Max 4D\n",
    "\n",
    "We are going to use probability to estimate the chance of winning.\n",
    "\n",
    "## Power 6/55 lottery\n",
    "6/55 lottery is a game where you choose 6 random numbers from 1 to 55 and win $1,300,000 by getting all 6 numbers right when they draw the result. The numbers do not have to be in order and there is also a few other prizes along with the jackpot. We want to answer the below questions:\n",
    "- What is the probability of winning the big prize with a single ticket?\n",
    "- What is the probability of winning the big prize if we play 50 different tickets?\n",
    "- What is the probability of winning the big prize if we play 7 to 18 numbers?\n",
    "- What is the probability of having at least five (or four, or three) winning numbers on a single ticket?\n",
    "\n",
    "### What is the probability of winning the big prize with a single ticket?\n",
    "Let's start by writing a few functions:\n",
    "- factorial() that computes the factorial of that number n\n",
    "- combinations() which takes in two inputs (n and k) and outputs the number of combinations when we're taking only k objects from a group of n objects.\n",
    "- one_ticket_probability_6_55() which takes in a list of six unique numbers and prints the probability of winning"
   ]
  },
  {
   "cell_type": "code",
   "execution_count": 30,
   "metadata": {
    "collapsed": true
   },
   "outputs": [],
   "source": [
    "def factorial(n):\n",
    "    f = 1 \n",
    "    for i in range(n, 1 , -1):\n",
    "        f *= i\n",
    "    return f\n",
    "\n",
    "def combinations(n, k):\n",
    "    return factorial(n)/(factorial(k) * factorial(n-k))\n",
    "\n",
    "def one_ticket_probability_6_55(user_numbers):\n",
    "    combination = combinations(55, 6)\n",
    "    vic_per = 100 / combination\n",
    "    print('Your chances to win the big prize with the numbers {} is {:.7f}% or 1 in {:,}.'.format(user_numbers, vic_per,\n",
    "                    int(combination)))"
   ]
  },
  {
   "cell_type": "code",
   "execution_count": 31,
   "metadata": {
    "collapsed": false
   },
   "outputs": [
    {
     "name": "stdout",
     "output_type": "stream",
     "text": [
      "Your chances to win the big prize with the numbers [2, 43, 22, 23, 11, 5] is 0.0000034% or 1 in 28,989,675.\n"
     ]
    }
   ],
   "source": [
    "test_input_1 = [2, 43, 22, 23, 11, 5]\n",
    "one_ticket_probability_6_55(test_input_1)"
   ]
  },
  {
   "cell_type": "markdown",
   "metadata": {},
   "source": [
    "Wow, that is just a line from some cheesy pop lyrics, 'One in a million'. Even worse, now you have to be one of almost 29 millions. It costs 43 cent/ticket so it will cost 12,465,560.25usd to buy all tickets and secure the 1,300,000usd jackpot prize."
   ]
  },
  {
   "cell_type": "markdown",
   "metadata": {},
   "source": [
    "###  What is the probability of winning the big prize if we play 50 different tickets?\n",
    "Lottery addicts usually play more than one ticket on a single drawing, thinking that this might increase their chances of winning significantly. Knowing that, Vietlott develops several options offering a various combinations of tickets. We will help the users better estimate their chances of winning with a function multi_ticket_probability() that will take an arbitrary number and allow the users to calculate the chances of winning for that number of tickets.\n",
    "\n",
    "The most common type Vietlott uses is 'cover 5' in which basically the user buy 50 tickets, 5 of 6 first number are the same while the last number cover all remaining 50 slots."
   ]
  },
  {
   "cell_type": "code",
   "execution_count": 32,
   "metadata": {
    "collapsed": false
   },
   "outputs": [
    {
     "name": "stdout",
     "output_type": "stream",
     "text": [
      "Your winning chance with 50 tickets is 0.00017% or 1 in 579,793.\n"
     ]
    }
   ],
   "source": [
    "def multi_ticket_probability_6_55(n):\n",
    "    combination = combinations(55, 6) / n\n",
    "    vic_per = 100 / combination\n",
    "    print(\"Your winning chance with {} tickets is {:.5f}% or 1 in {:,}.\".format(n, vic_per, int(combination)))\n",
    "multi_ticket_probability_6_55(50)"
   ]
  },
  {
   "cell_type": "markdown",
   "metadata": {},
   "source": [
    "For 21usd, an average daily wage in Vietnam, you will have a better chance of one in more than half a million to guarantee a victory of $1,300,000."
   ]
  },
  {
   "cell_type": "markdown",
   "metadata": {},
   "source": [
    "###  What is the probability of winning the big prize if we play 7 to 15 and 18 numbers?\n",
    "Another product Vietlott introduces is that you choose 7 to 15 and 18 numbers, the machine will automatically generates all possible combinations of these numbers for you.\n",
    "In order to caculate the probability for this questions, let's break it into two parts:\n",
    "- Caculate all possible combinations by choosing 7 to 15 and 18 numbers\n",
    "- Treat each of these combinations as one ticket and caculate their winning chances"
   ]
  },
  {
   "cell_type": "code",
   "execution_count": 33,
   "metadata": {
    "collapsed": false
   },
   "outputs": [
    {
     "name": "stdout",
     "output_type": "stream",
     "text": [
      "Your winning chance with 7.0 tickets is 0.00002% or 1 in 4,141,382.\n",
      "Your winning chance with 28.0 tickets is 0.00010% or 1 in 1,035,345.\n",
      "Your winning chance with 84.0 tickets is 0.00029% or 1 in 345,115.\n",
      "Your winning chance with 210.0 tickets is 0.00072% or 1 in 138,046.\n",
      "Your winning chance with 462.0 tickets is 0.00159% or 1 in 62,748.\n",
      "Your winning chance with 924.0 tickets is 0.00319% or 1 in 31,374.\n",
      "Your winning chance with 1716.0 tickets is 0.00592% or 1 in 16,893.\n",
      "Your winning chance with 3003.0 tickets is 0.01036% or 1 in 9,653.\n",
      "Your winning chance with 5005.0 tickets is 0.01726% or 1 in 5,792.\n",
      "Your winning chance with 18564.0 tickets is 0.06404% or 1 in 1,561.\n"
     ]
    }
   ],
   "source": [
    "possible_combinations = []\n",
    "for i in [7, 8 , 9, 10, 11, 12, 13, 14, 15, 18]:\n",
    "    possible_combinations.append(combinations(i, 6))\n",
    "for i in possible_combinations:\n",
    "    multi_ticket_probability_6_55(i)"
   ]
  },
  {
   "cell_type": "markdown",
   "metadata": {},
   "source": [
    "### What is the probability of having at least five (or four, or three) winning numbers on a single ticket?\n",
    "In Vietlott 6/55 lotteries there are smaller prizes if a player's ticket match three, four, or five of the six numbers drawn. As a consequence, the users might be interested in knowing the probability of having three, four, or five winning numbers."
   ]
  },
  {
   "cell_type": "code",
   "execution_count": 35,
   "metadata": {
    "collapsed": false
   },
   "outputs": [
    {
     "name": "stdout",
     "output_type": "stream",
     "text": [
      "Your winning chance for getting 3 numbers is 1.2711%\n",
      "Your winning chance for getting 4 numbers is 0.0608%\n",
      "Your winning chance for getting 5 numbers is 0.0010%\n"
     ]
    }
   ],
   "source": [
    "def probability_less_6(n):\n",
    "    possible_com = combinations(6, n)\n",
    "    remain_com = combinations(49, 6 - n)\n",
    "    success_com = possible_com * remain_com\n",
    "    total_com = combinations(55, 6)\n",
    "    prob = (100 * success_com / total_com)\n",
    "    print(\"Your winning chance for getting {} numbers is {:.4f}%\".format(n, prob))\n",
    "for i in [3, 4, 5]:\n",
    "    n = probability_less_6(i)"
   ]
  },
  {
   "cell_type": "markdown",
   "metadata": {},
   "source": [
    "If you win by:\n",
    "- 3 numbers you get 2.2usd\n",
    "- 4 numbers you get 21.5usd\n",
    "- 5 numbers you get 1720usd"
   ]
  },
  {
   "cell_type": "markdown",
   "metadata": {},
   "source": [
    "## Mega 6/45 lottery\n",
    "6/45 lottery is a game where you choose 6 random numbers from 1 to 45 and win $516,573 by getting all 6 numbers right when they draw the result. The numbers do not have to be in order and there is also a few other prizes along with the jackpot. We want to answer the below questions:\n",
    "- What is the odds of winning the big prize with a single ticket?\n",
    "- What is the odds of having at least five (or four, or three) winning numbers on a single ticket?\n",
    "\n",
    "### What is the odds of winning the big prize with a single ticket?\n",
    "Let's start by writing a new function:\n",
    "- one_ticket_probability_6_45() which takes in a list of six unique numbers and prints the probability of winning"
   ]
  },
  {
   "cell_type": "code",
   "execution_count": 39,
   "metadata": {
    "collapsed": true
   },
   "outputs": [],
   "source": [
    "def one_ticket_probability_6_45(user_numbers):\n",
    "    combination = combinations(45, 6)\n",
    "    vic_per = 100 / combination\n",
    "    print('Your chances to win the big prize with the numbers {} is {:.7f}% or 1 in {:,}.'.format(user_numbers, vic_per,\n",
    "                    int(combination)))"
   ]
  },
  {
   "cell_type": "code",
   "execution_count": 40,
   "metadata": {
    "collapsed": false
   },
   "outputs": [
    {
     "name": "stdout",
     "output_type": "stream",
     "text": [
      "Your chances to win the big prize with the numbers [2, 43, 22, 23, 11, 5] is 0.0000123% or 1 in 8,145,060.\n"
     ]
    }
   ],
   "source": [
    "test_input_1 = [2, 43, 22, 23, 11, 5]\n",
    "one_ticket_probability_6_45(test_input_1)"
   ]
  },
  {
   "cell_type": "markdown",
   "metadata": {},
   "source": [
    "Compared to the chances of 0.0000034% for buying one ticket in 6/55 lottery, playing 6/45 lottery is 261% more likely to guarantee your winning chance. However, the chance is still at a gloomy 0.0000123%."
   ]
  },
  {
   "cell_type": "markdown",
   "metadata": {},
   "source": [
    "### What is the odds of having at least five (or four, or three) winning numbers on a single ticket?\n",
    "Similiar to Power 6/55, 6/45 lottery also has smaller prizes for tickets matching three, four, or five of the six numbers drawn. Let's find the chances of winning these prizes."
   ]
  },
  {
   "cell_type": "code",
   "execution_count": 41,
   "metadata": {
    "collapsed": false
   },
   "outputs": [
    {
     "name": "stdout",
     "output_type": "stream",
     "text": [
      "Your winning chance for getting 3 numbers is 2.2441%\n",
      "Your winning chance for getting 4 numbers is 0.1365%\n",
      "Your winning chance for getting 5 numbers is 0.0029%\n"
     ]
    }
   ],
   "source": [
    "def probability_less_6(n):\n",
    "    possible_com = combinations(6, n)\n",
    "    remain_com = combinations(39, 6 - n)\n",
    "    success_com = possible_com * remain_com\n",
    "    total_com = combinations(45, 6)\n",
    "    prob = (100 * success_com / total_com)\n",
    "    print(\"Your winning chance for getting {} numbers is {:.4f}%\".format(n, prob))\n",
    "for i in [3, 4, 5]:\n",
    "    n = probability_less_6(i)"
   ]
  },
  {
   "cell_type": "markdown",
   "metadata": {},
   "source": [
    "## MAX 3D\n",
    "Max 3D is another product where we pick a number from 0 to 999, then we win several prizes based on how the number matches the results:\n",
    "- First prize: the host draws 2 numbers, you match 1: 43usd\n",
    "- Second prize: the host draws 4 numbers, you match 1: 15usd\n",
    "- Third prize: the host draws 6 numbers, you match 1: 9usd\n",
    "- Consolation prize: the host draws 8 numbers, you match 1: 4.3usd"
   ]
  },
  {
   "cell_type": "markdown",
   "metadata": {},
   "source": [
    "### What is the odds of winning 1st, 2nd, 3rd and consolation prize?"
   ]
  },
  {
   "cell_type": "code",
   "execution_count": 79,
   "metadata": {
    "collapsed": false
   },
   "outputs": [
    {
     "name": "stdout",
     "output_type": "stream",
     "text": [
      "The odds for 1st prize are 0.20010% or 1 in 499.\n",
      "The odds for 2nd prize are 0.40060% or 1 in 249.\n",
      "The odds for 3rd prize are 0.60151% or 1 in 166\n",
      "The odds for consolation prize are 0.80281% or 1 in 124.\n"
     ]
    }
   ],
   "source": [
    "first_prize_odds = 1/1000 + 1/999\n",
    "second_prize_odds = first_prize_odds + 1/998 + 1/997\n",
    "third_prize_odds = second_prize_odds + 1/996 + 1/995\n",
    "consol_prize_odds = third_prize_odds + 1/994 + 1/993\n",
    "print(\"The odds for 1st prize are {:.5f}% or 1 in {}.\".format(first_prize_odds * 100, int(1/first_prize_odds)))\n",
    "print(\"The odds for 2nd prize are {:.5f}% or 1 in {}.\".format(second_prize_odds * 100, int(1/second_prize_odds)))\n",
    "print(\"The odds for 3rd prize are {:.5f}% or 1 in {}\".format(third_prize_odds * 100, int(1/third_prize_odds)))\n",
    "print(\"The odds for consolation prize are {:.5f}% or 1 in {}.\".format(consol_prize_odds * 100, int(1/consol_prize_odds)))"
   ]
  },
  {
   "cell_type": "markdown",
   "metadata": {},
   "source": [
    "## MAX 3D+\n",
    "Max 3D+ is very similar to Max 3D where we pick two numbers, each on one ticket from 0 to 999, then we win several prizes based on how the number matches the results:\n",
    "- First prize: the host draws 2 numbers, you match both: 43,047usd\n",
    "- Second prize: the host draws 4 numbers, you match 2: 1722usd\n",
    "- Third prize: the host draws 6 numbers, you match 2: 430usd\n",
    "- Fourth prize: the host draws 8 numbers, you match 2: 4.3usd"
   ]
  },
  {
   "cell_type": "markdown",
   "metadata": {},
   "source": [
    "### What is the odds of winning 1st, 2nd, 3rd and consolation prize?"
   ]
  },
  {
   "cell_type": "code",
   "execution_count": 81,
   "metadata": {
    "collapsed": false
   },
   "outputs": [
    {
     "name": "stdout",
     "output_type": "stream",
     "text": [
      "The odds for 1st prize are 0.00020% or 1 in 499500.\n",
      "The odds for 2nd prize are 0.00120% or 1 in 83250.\n",
      "The odds for 3rd prize are 0.00300% or 1 in 33300\n",
      "The odds for consolation prize are 0.80281% or 1 in 124.\n"
     ]
    }
   ],
   "source": [
    "first_prize_odds = 1 / combinations(1000, 2)\n",
    "second_prize_odds = first_prize_odds * combinations(4, 2)\n",
    "third_prize_odds = first_prize_odds * combinations(6, 2)\n",
    "fourth_prize_odds = first_prize_odds * combinations(8, 2)\n",
    "print(\"The odds for 1st prize are {:.5f}% or 1 in {}.\".format(first_prize_odds * 100, int(1/first_prize_odds)))\n",
    "print(\"The odds for 2nd prize are {:.5f}% or 1 in {}.\".format(second_prize_odds * 100, int(1/second_prize_odds)))\n",
    "print(\"The odds for 3rd prize are {:.5f}% or 1 in {}\".format(third_prize_odds * 100, int(1/third_prize_odds)))\n",
    "print(\"The odds for consolation prize are {:.5f}% or 1 in {}.\".format(consol_prize_odds * 100, int(1/consol_prize_odds)))"
   ]
  },
  {
   "cell_type": "markdown",
   "metadata": {},
   "source": [
    "Notice how despite you spend double for this Max 3D+, the odds of winning consolation prize are the same for Max 3D and Max 3D+. Also, 3D+'s 3rd prize is 10 times the value of 3D 's first prize but the chance of winning 3D+'s 3rd prize is 666 times less likely to happen compare to that of 3D."
   ]
  },
  {
   "cell_type": "markdown",
   "metadata": {},
   "source": [
    "## MAX 4D\n",
    "Max 4D is very similar to Max 3D where we pick one numbers from 0 to 9999, then we win several prizes based on how the number matches the results:\n",
    "- First prize: the host draws 1 number, you match 1: 645usd\n",
    "- Second prize: the host draws 2 numbers, you match 1: 258usd\n",
    "- Third prize: the host draws 3 numbers, you match 1: 129usd\n",
    "- Consolation prize: you match the last 3 digits of first pize: 43usd"
   ]
  },
  {
   "cell_type": "code",
   "execution_count": 97,
   "metadata": {
    "collapsed": false
   },
   "outputs": [
    {
     "name": "stdout",
     "output_type": "stream",
     "text": [
      "The odds for 1st prize are 0.01000% or 1 in 10000.\n",
      "The odds for 2nd prize are 0.02000% or 1 in 4999.\n",
      "The odds for 3rd prize are 0.03000% or 1 in 3332\n",
      "The odds for consolation prize are 0.80281% or 1 in 124.\n"
     ]
    }
   ],
   "source": [
    "first_prize_odds = 1 / 10000\n",
    "second_prize_odds = first_prize_odds + 1 / 9999\n",
    "third_prize_odds = second_prize_odds + 1 / 9998\n",
    "fourth_prize_odds = first_prize_odds * 10\n",
    "print(\"The odds for 1st prize are {:.5f}% or 1 in {}.\".format(first_prize_odds * 100, int(1/first_prize_odds)))\n",
    "print(\"The odds for 2nd prize are {:.5f}% or 1 in {}.\".format(second_prize_odds * 100, int(1/second_prize_odds)))\n",
    "print(\"The odds for 3rd prize are {:.5f}% or 1 in {}\".format(third_prize_odds * 100, int(1/third_prize_odds)))\n",
    "print(\"The odds for consolation prize are {:.5f}% or 1 in {}.\".format(consol_prize_odds * 100, int(1/consol_prize_odds)))"
   ]
  },
  {
   "cell_type": "markdown",
   "metadata": {},
   "source": [
    "### Conclusion\n",
    "After making the having caculating all of the odds, let add them together and compare all the lotteries' frist prize value and their probability."
   ]
  },
  {
   "cell_type": "code",
   "execution_count": 107,
   "metadata": {
    "collapsed": false
   },
   "outputs": [
    {
     "data": {
      "text/html": [
       "<div>\n",
       "<style scoped>\n",
       "    .dataframe tbody tr th:only-of-type {\n",
       "        vertical-align: middle;\n",
       "    }\n",
       "\n",
       "    .dataframe tbody tr th {\n",
       "        vertical-align: top;\n",
       "    }\n",
       "\n",
       "    .dataframe thead th {\n",
       "        text-align: right;\n",
       "    }\n",
       "</style>\n",
       "<table border=\"1\" class=\"dataframe\">\n",
       "  <thead>\n",
       "    <tr style=\"text-align: right;\">\n",
       "      <th></th>\n",
       "      <th>First Prize Odds (%)</th>\n",
       "      <th>First Prize</th>\n",
       "    </tr>\n",
       "  </thead>\n",
       "  <tbody>\n",
       "    <tr>\n",
       "      <th>6/55</th>\n",
       "      <td>0.000003</td>\n",
       "      <td>1300000</td>\n",
       "    </tr>\n",
       "    <tr>\n",
       "      <th>6/45</th>\n",
       "      <td>0.000012</td>\n",
       "      <td>516573</td>\n",
       "    </tr>\n",
       "    <tr>\n",
       "      <th>Max 3D</th>\n",
       "      <td>0.200100</td>\n",
       "      <td>43</td>\n",
       "    </tr>\n",
       "    <tr>\n",
       "      <th>Max 3D+</th>\n",
       "      <td>0.000200</td>\n",
       "      <td>43047</td>\n",
       "    </tr>\n",
       "    <tr>\n",
       "      <th>Max 4D</th>\n",
       "      <td>0.010000</td>\n",
       "      <td>645</td>\n",
       "    </tr>\n",
       "  </tbody>\n",
       "</table>\n",
       "</div>"
      ],
      "text/plain": [
       "         First Prize Odds (%)  First Prize\n",
       "6/55                 0.000003      1300000\n",
       "6/45                 0.000012       516573\n",
       "Max 3D               0.200100           43\n",
       "Max 3D+              0.000200        43047\n",
       "Max 4D               0.010000          645"
      ]
     },
     "execution_count": 107,
     "metadata": {},
     "output_type": "execute_result"
    }
   ],
   "source": [
    "# Import libraries and make a dataframe of first prize values\n",
    "import pandas as pd\n",
    "import matplotlib.pyplot as plt\n",
    "%matplotlib inline\n",
    "lotteries = pd.DataFrame()\n",
    "lotteries['First Prize Odds (%)'] = [0.0000034, 0.0000123, 0.2001, 0.0002, 0.01]\n",
    "lotteries['First Prize'] = [1300000, 516573, 43, 43047, 645]\n",
    "lotteries.index =  ['6/55', '6/45', 'Max 3D', 'Max 3D+', 'Max 4D']\n",
    "lotteries"
   ]
  },
  {
   "cell_type": "code",
   "execution_count": 108,
   "metadata": {
    "collapsed": false
   },
   "outputs": [
    {
     "data": {
      "text/plain": [
       "<matplotlib.axes._subplots.AxesSubplot at 0x7ff7152c5be0>"
      ]
     },
     "execution_count": 108,
     "metadata": {},
     "output_type": "execute_result"
    },
    {
     "data": {
      "image/png": "[encoded data removed]",
      "text/plain": [
       "<matplotlib.figure.Figure at 0x7ff71311fc88>"
      ]
     },
     "metadata": {},
     "output_type": "display_data"
    }
   ],
   "source": [
    "# Graph comparing their chances\n",
    "lotteries['First Prize Odds (%)'].plot.bar(title='First Prize odds in Vietlott Lottery', color='#0066FF', figsize=(5,12), align='center', width=.15, rot=0)"
   ]
  },
  {
   "cell_type": "code",
   "execution_count": 109,
   "metadata": {
    "collapsed": false
   },
   "outputs": [
    {
     "data": {
      "text/plain": [
       "<matplotlib.axes._subplots.AxesSubplot at 0x7ff71314ad68>"
      ]
     },
     "execution_count": 109,
     "metadata": {},
     "output_type": "execute_result"
    },
    {
     "data": {
      "image/png": "[encoded data removed]",
      "text/plain": [
       "<matplotlib.figure.Figure at 0x7ff713161438>"
      ]
     },
     "metadata": {},
     "output_type": "display_data"
    }
   ],
   "source": [
    "# Graph comparing their values\n",
    "lotteries['First Prize'].plot.bar(title='First Prize value in Vietlott Lottery', color='#0066FF', figsize=(5, 10), align='center', width=.15, rot=0)"
   ]
  },
  {
   "cell_type": "markdown",
   "metadata": {},
   "source": [
    "While it seems that 6/55 and 6/45 have larger reward. Their odds are staggering low. However, even the highest chance of winning is only at 0.2% or 1 every 499. That is a very low rate and it is not suggested to play lottery if you only have victory in mind."
   ]
  },
  {
   "cell_type": "code",
   "execution_count": null,
   "metadata": {
    "collapsed": true
   },
   "outputs": [],
   "source": []
  }
 ],
 "metadata": {
  "kernelspec": {
   "display_name": "Python 3",
   "language": "python",
   "name": "python3"
  },
  "language_info": {
   "codemirror_mode": {
    "name": "ipython",
    "version": 3
   },
   "file_extension": ".py",
   "mimetype": "text/x-python",
   "name": "python",
   "nbconvert_exporter": "python",
   "pygments_lexer": "ipython3",
   "version": "3.4.3"
  }
 },
 "nbformat": 4,
 "nbformat_minor": 2
}
