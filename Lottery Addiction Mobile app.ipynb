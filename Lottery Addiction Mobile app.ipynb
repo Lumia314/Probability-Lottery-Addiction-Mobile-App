{
 "cells": [
  {
   "cell_type": "markdown",
   "metadata": {},
   "source": [
    "# Lottery Addiction mobile app\n",
    "## Introduction\n",
    "Many people start playing the lottery for fun, but for some this activity turns into a habit which eventually escalates into addiction. Like other compulsive gamblers, lottery addicts soon begin spending from their savings and loans, they start to accumulate debts, and eventually engage in desperate behaviors like theft.\n",
    "## Goal\n",
    "In this project, we will help develop a mobile app meant to help lottery addicts better estimate their chances of winning.\n",
    "Our stakeholders want to focus on 6/49 lottery and answer these questions:\n",
    "- What is the probability of winning the big prize with a single ticket?\n",
    "- What is the probability of winning the big prize if we play 40 different tickets (or any other number)?\n",
    "- What is the probability of having at least five (or four, or three, or two) winning numbers on a single ticket?\n",
    "## Data description\n",
    "We will be using 6/49 lottery dataset from Kaggle with 3665 drawings, dating from 1982 to 2018. The dataset can be found here:\n",
    "https://www.kaggle.com/datascienceai/lottery-dataset\n",
    "Lanuched in 1982, 6/49 lottery is very popular in Canada. As the name implies, six numbers are drawn from a set of 49 numbers that range from 1 to 49. A player wins the big prize if the six numbers on their tickets match all the six numbers drawn. If a player has a ticket with the numbers {13, 22, 24, 27, 42, 44}, he only wins the big prize if the numbers drawn are {13, 22, 24, 27, 42, 44}. If only one number differs, he doesn't win. The drawing is done without replacement, which means once a number is drawn, it's not put back in the set."
   ]
  },
  {
   "cell_type": "markdown",
   "metadata": {},
   "source": [
    "## What is the probability of winning the big prize with a single ticket?\n",
    "Let's start by writing a few functions:\n",
    "- factorial() that computes the factorial of that number n\n",
    "- combinations() which takes in two inputs (n and k) and outputs the number of combinations when we're taking only k objects from a group of n objects.\n",
    "- one_ticket_probability() which takes in a list of six unique numbers and prints the probability of winning"
   ]
  },
  {
   "cell_type": "code",
   "execution_count": 1,
   "metadata": {
    "collapsed": false
   },
   "outputs": [],
   "source": [
    "def factorial(n):\n",
    "    f = 1 \n",
    "    for i in range(n, 1 , -1):\n",
    "        f *= i\n",
    "    return f\n",
    "\n",
    "def combinations(n, k):\n",
    "    return factorial(n) / (factorial(k) * factorial(n-k))\n",
    "        \n",
    "def one_ticket_probability(l):\n",
    "    vic_per = 100 * (1 / combinations(49, 6))\n",
    "    print(\"Your winning chance by percentage is {:.7f}%\".format(vic_per))"
   ]
  },
  {
   "cell_type": "markdown",
   "metadata": {},
   "source": [
    "## Compare ticket against historical lottery data\n",
    "We will import historical Canadian lottery dataset for 3665 rows and 6 columns as follows:\n",
    "- NUMBER DRAWN 1\n",
    "- NUMBER DRAWN 2\n",
    "- NUMBER DRAWN 3\n",
    "- NUMBER DRAWN 4\n",
    "- NUMBER DRAWN 5\n",
    "- NUMBER DRAWN 6"
   ]
  },
  {
   "cell_type": "markdown",
   "metadata": {},
   "source": [
    "There are also columns for id and date but let's not use them for now. Make a function check_historical_occurence() to compare user's number against historical record:\n",
    "- Make function extract_numbers() that takes as input a row of the lottery dataframe and returns a set containing all the six winning numbers.\n",
    "- Make new column for the winning set in the lottery dataframe.\n",
    "- Make new function named check_historical_occurence() that takes in two inputs: a Python list containing the user numbers and a pandas Series containing sets with the winning numbers"
   ]
  },
  {
   "cell_type": "code",
   "execution_count": 4,
   "metadata": {
    "collapsed": false
   },
   "outputs": [
    {
     "data": {
      "text/html": [
       "<div>\n",
       "<style scoped>\n",
       "    .dataframe tbody tr th:only-of-type {\n",
       "        vertical-align: middle;\n",
       "    }\n",
       "\n",
       "    .dataframe tbody tr th {\n",
       "        vertical-align: top;\n",
       "    }\n",
       "\n",
       "    .dataframe thead th {\n",
       "        text-align: right;\n",
       "    }\n",
       "</style>\n",
       "<table border=\"1\" class=\"dataframe\">\n",
       "  <thead>\n",
       "    <tr style=\"text-align: right;\">\n",
       "      <th></th>\n",
       "      <th>PRODUCT</th>\n",
       "      <th>DRAW NUMBER</th>\n",
       "      <th>SEQUENCE NUMBER</th>\n",
       "      <th>DRAW DATE</th>\n",
       "      <th>NUMBER DRAWN 1</th>\n",
       "      <th>NUMBER DRAWN 2</th>\n",
       "      <th>NUMBER DRAWN 3</th>\n",
       "      <th>NUMBER DRAWN 4</th>\n",
       "      <th>NUMBER DRAWN 5</th>\n",
       "      <th>NUMBER DRAWN 6</th>\n",
       "      <th>BONUS NUMBER</th>\n",
       "    </tr>\n",
       "  </thead>\n",
       "  <tbody>\n",
       "    <tr>\n",
       "      <th>0</th>\n",
       "      <td>649</td>\n",
       "      <td>1</td>\n",
       "      <td>0</td>\n",
       "      <td>6/12/1982</td>\n",
       "      <td>3</td>\n",
       "      <td>11</td>\n",
       "      <td>12</td>\n",
       "      <td>14</td>\n",
       "      <td>41</td>\n",
       "      <td>43</td>\n",
       "      <td>13</td>\n",
       "    </tr>\n",
       "    <tr>\n",
       "      <th>1</th>\n",
       "      <td>649</td>\n",
       "      <td>2</td>\n",
       "      <td>0</td>\n",
       "      <td>6/19/1982</td>\n",
       "      <td>8</td>\n",
       "      <td>33</td>\n",
       "      <td>36</td>\n",
       "      <td>37</td>\n",
       "      <td>39</td>\n",
       "      <td>41</td>\n",
       "      <td>9</td>\n",
       "    </tr>\n",
       "    <tr>\n",
       "      <th>2</th>\n",
       "      <td>649</td>\n",
       "      <td>3</td>\n",
       "      <td>0</td>\n",
       "      <td>6/26/1982</td>\n",
       "      <td>1</td>\n",
       "      <td>6</td>\n",
       "      <td>23</td>\n",
       "      <td>24</td>\n",
       "      <td>27</td>\n",
       "      <td>39</td>\n",
       "      <td>34</td>\n",
       "    </tr>\n",
       "  </tbody>\n",
       "</table>\n",
       "</div>"
      ],
      "text/plain": [
       "   PRODUCT  DRAW NUMBER  SEQUENCE NUMBER  DRAW DATE  NUMBER DRAWN 1  \\\n",
       "0      649            1                0  6/12/1982               3   \n",
       "1      649            2                0  6/19/1982               8   \n",
       "2      649            3                0  6/26/1982               1   \n",
       "\n",
       "   NUMBER DRAWN 2  NUMBER DRAWN 3  NUMBER DRAWN 4  NUMBER DRAWN 5  \\\n",
       "0              11              12              14              41   \n",
       "1              33              36              37              39   \n",
       "2               6              23              24              27   \n",
       "\n",
       "   NUMBER DRAWN 6  BONUS NUMBER  \n",
       "0              43            13  \n",
       "1              41             9  \n",
       "2              39            34  "
      ]
     },
     "execution_count": 4,
     "metadata": {},
     "output_type": "execute_result"
    }
   ],
   "source": [
    "import pandas as pd\n",
    "lh = pd.read_csv('649.csv')\n",
    "lh.head(3)"
   ]
  },
  {
   "cell_type": "code",
   "execution_count": 21,
   "metadata": {
    "collapsed": false
   },
   "outputs": [],
   "source": [
    "def extract_numbers(row):\n",
    "    s = set(row[4:10])\n",
    "    return s\n",
    "lh['win_num'] = lh.apply(extract_numbers, axis=1)\n",
    "\n",
    "def check_historical_occurence(l, s):\n",
    "    l = set(l)\n",
    "    occ = (l == s).sum()\n",
    "    print(\"This number appeared {} in history\".format(occ))"
   ]
  },
  {
   "cell_type": "markdown",
   "metadata": {},
   "source": [
    "##  What is the probability of winning the big prize if we play 40 different tickets (or any other number)?\n",
    "Lottery addicts usually play more than one ticket on a single drawing, thinking that this might increase their chances of winning significantly. We will help them better estimate their chances of winning with a function multi_ticket_probability() that will take an arbitrary number and allow the users to calculate the chances of winning for that number of tickets."
   ]
  },
  {
   "cell_type": "code",
   "execution_count": 9,
   "metadata": {
    "collapsed": false
   },
   "outputs": [
    {
     "name": "stdout",
     "output_type": "stream",
     "text": [
      "Your winning chance is 0.0000072%\n",
      "Your winning chance is 0.0000715%\n",
      "Your winning chance is 0.0007151%\n",
      "Your winning chance is 0.0715112%\n",
      "Your winning chance is 7.1511238%\n",
      "Your winning chance is 50.0000000%\n",
      "Your winning chance is 100.0000000%\n"
     ]
    }
   ],
   "source": [
    "def multi_ticket_probability(n):\n",
    "    vic_per = (n * 100) / combinations(49, 6)\n",
    "    print(\"Your winning chance is {:.7f}%\".format(vic_per))\n",
    "# Chances of winning a lottery with multipe tickets from 1 to 13,983,816 (the maximum number of different tickets)\n",
    "for i in [1, 10, 100, 10000, 1000000, 6991908, 13983816]:\n",
    "    n = multi_ticket_probability(i)"
   ]
  },
  {
   "cell_type": "markdown",
   "metadata": {
    "collapsed": false
   },
   "source": [
    "For $3 each ticket, you will have to spend a whoppering $41,951,448 to guarantee a victory of $1,000,000."
   ]
  },
  {
   "cell_type": "markdown",
   "metadata": {},
   "source": [
    "## What is the probability of having at least five (or four, or three, or two) winning numbers on a single ticket?\n",
    "In most 6/49 lotteries there are smaller prizes if a player's ticket match two, three, four, or five of the six numbers drawn. As a consequence, the users might be interested in knowing the probability of having two, three, four, or five winning numbers."
   ]
  },
  {
   "cell_type": "code",
   "execution_count": 16,
   "metadata": {
    "collapsed": false
   },
   "outputs": [
    {
     "name": "stdout",
     "output_type": "stream",
     "text": [
      "Your winning chance for 2 tickets is 13.2378000%\n",
      "Your winning chance for 3 tickets is 1.7650400%\n",
      "Your winning chance for 4 tickets is 0.0968600%\n",
      "Your winning chance for 5 tickets is 0.0018400%\n"
     ]
    }
   ],
   "source": [
    "def probability_less_6(n):\n",
    "    pos_com = combinations(6, n)\n",
    "    rem_com = combinations(43, 6 - n)\n",
    "    suc_com = pos_com * rem_com\n",
    "    tot_com = combinations(49, 6)\n",
    "    prob = round((100 * suc_com / tot_com), 5)\n",
    "    print(\"Your winning chance for {} tickets is {:.7f}%\".format(n, prob))\n",
    "for i in [2, 3, 4, 5]:\n",
    "    n = probability_less_6(i)"
   ]
  },
  {
   "cell_type": "markdown",
   "metadata": {},
   "source": [
    "## Conclusion\n",
    "After making the project, one thing is for sure is that it is not wise to invest your money in 6/49 lottery. Perhaps that is why there is no such app on the market yet."
   ]
  }
 ],
 "metadata": {
  "kernelspec": {
   "display_name": "Python 3",
   "language": "python",
   "name": "python3"
  },
  "language_info": {
   "codemirror_mode": {
    "name": "ipython",
    "version": 3
   },
   "file_extension": ".py",
   "mimetype": "text/x-python",
   "name": "python",
   "nbconvert_exporter": "python",
   "pygments_lexer": "ipython3",
   "version": "3.4.3"
  }
 },
 "nbformat": 4,
 "nbformat_minor": 2
}
